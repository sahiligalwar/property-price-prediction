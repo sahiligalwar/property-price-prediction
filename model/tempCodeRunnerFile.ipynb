import json
columns = {
    'data_columns' : [col.lower() for col in X.columns]
}
with open("columns.json","w") as f:
    f.write(json.dumps(columns))